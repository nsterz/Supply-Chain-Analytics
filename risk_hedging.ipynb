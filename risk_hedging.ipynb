{
 "cells": [
  {
   "cell_type": "markdown",
   "metadata": {},
   "source": [
    "<div style=\"margin-top: 30px; margin-bottom: 10px;\">   \n",
    "    <span style =\"font-size: 40px; font-weight: bold; color: #8EB944; align: center\">\n",
    "        Day 4\n",
    "    </span>\n",
    "    <hr style=\"color: #8EB944; height: 3px;background-color: #8EB944;border: none\"> \n",
    "    </div>\n",
    "    \n",
    "<span style =\"font-size: 22px; font-weight: bold;color: #507F7F;\">\n",
    "        1. Do the scores change if we incorporate the three scenarios into our analysis?\n",
    "\n",
    "\n",
    "</span>\n",
    "<hr style=\"color: #8EB944; height: 1px;background-color: #507F7F;border: none\">"
   ]
  },
  {
   "cell_type": "markdown",
   "metadata": {},
   "source": [
    "<p style =\"font-size: 20px; font-weight: bold;\">Additional Cost for 50,000 tonnes (30% Chance): </p>\n",
    "<table style=\"text-align: center; font-size:15px;\">\n",
    "  <tr>\n",
    "    <th></th>\n",
    "    <th>ChemCo</th>\n",
    "    <th>Handle</th> \n",
    "    <th>Ulme</th>\n",
    "  </tr>\n",
    "  <tr>\n",
    "    <td style=\"font-weight: bold; text-align: left;\">transportation cost / tonne</td>\n",
    "    <td>15€</td>\n",
    "    <td>20€</td> \n",
    "    <td>5€</td>\n",
    "  </tr>\n",
    "  <tr style=\"border-bottom: 3px solid;\">\n",
    "    <td style=\"font-weight: bold; text-align: left;\">setup cost / tonne</td>\n",
    "    <td>70€</td>\n",
    "    <td>30€</td> \n",
    "    <td>---</td>\n",
    "  </tr>\n",
    "    <tr>\n",
    "    <td style=\"font-weight: bold; text-align: left;\">additional cost / tonne</td>\n",
    "    <td>85€</td>\n",
    "    <td>50€</td> \n",
    "    <td>5€</td>\n",
    "  </tr>\n",
    "</table>\n",
    "<p style =\"font-size: 20px; font-weight: bold;\">Additional Cost for 100,000 tonnes (50% Chance): </p>\n",
    "<table style=\"text-align: center; font-size:15px;\">\n",
    "  <tr>\n",
    "    <th></th>\n",
    "    <th>ChemCo</th>\n",
    "    <th>Handle</th> \n",
    "    <th>Ulme</th>\n",
    "  </tr>\n",
    "  <tr>\n",
    "    <td style=\"font-weight: bold; text-align: left;\">transportation cost / tonne</td>\n",
    "    <td>15€</td>\n",
    "    <td>20€</td> \n",
    "    <td>5€</td>\n",
    "  </tr>\n",
    "  <tr style=\"border-bottom: 3px solid;\">\n",
    "    <td style=\"font-weight: bold; text-align: left;\">setup cost / tonne</td>\n",
    "    <td>35€</td>\n",
    "    <td>15€</td> \n",
    "    <td>---</td>\n",
    "  </tr>\n",
    "    <tr>\n",
    "    <td style=\"font-weight: bold; text-align: left;\">additional cost / tonne</td>\n",
    "    <td>50€</td>\n",
    "    <td>35€</td> \n",
    "    <td>5€</td>\n",
    "  </tr>\n",
    "</table>\n",
    "<p style =\"font-size: 20px; font-weight: bold;\">Additional Cost for 300,000 tonnes (20% Chance): </p>\n",
    "<table style=\"text-align: center; font-size:15px;\">\n",
    "  <tr>\n",
    "    <th></th>\n",
    "    <th>ChemCo</th>\n",
    "    <th>Handle</th> \n",
    "    <th>Ulme</th>\n",
    "  </tr>\n",
    "  <tr>\n",
    "    <td style=\"font-weight: bold; text-align: left;\">transportation cost / tonne</td>\n",
    "    <td>15€</td>\n",
    "    <td>20€</td> \n",
    "    <td>5€</td>\n",
    "  </tr>\n",
    "  <tr style=\"border-bottom: 3px solid;\">\n",
    "    <td style=\"font-weight: bold; text-align: left;\">setup cost / tonne</td>\n",
    "    <td>11.67€</td>\n",
    "    <td>5€</td> \n",
    "    <td>---</td>\n",
    "  </tr>\n",
    "    <tr>\n",
    "    <td style=\"font-weight: bold; text-align: left;\">additional cost / tonne</td>\n",
    "    <td>26.67€</td>\n",
    "    <td>25€</td> \n",
    "    <td>5€</td>\n",
    "  </tr>\n",
    "</table>\n",
    "\n",
    "<p style =\"font-size: 20px; font-weight: bold;\">Calculate the new scores: </p>\n",
    "<p style =\"font-size: 15px;\">\n",
    "    Score for Chemco: $\\quad 0.3 * 85 + 0.5 * 50 + 0.2 * 26.67 = 55.834 $ <br> \n",
    "    Score for Handle: $\\quad 0.3 * 50 + 0.5 * 35 + 0.2 * 25 = 37.5 $ <br> \n",
    "    Score for Ulme: $\\quad 0.3 * 5 + 0.5 * 5 + 0.2 * 5 = 5 $ <br> \n",
    "\n",
    "</p>"
   ]
  },
  {
   "cell_type": "markdown",
   "metadata": {},
   "source": [
    "<p style=\"text-align: justify; font-size: 15px\">To incorporate the three scenarios into our analysis, we need to calculate the new additional costs per tonne. The transportation cost remain the same, as these variable costs. However, the setup cost are fixed cost and thus must be adjusted to the respective scenario. Therefore, we divide the total setup cost by the number of tonnes in each scenario. To get the optimal scores, we multiply the probability for each scenario with the respective score. This procedure is repeated for every supplier. <br>\n",
    "    \n",
    "As Ulme doesn't have any setup costs, their score doesn't change in any scenario. ChemCo is the biggest profiteer of a higher volume, as their setup cost are the highest. As the high volume (300,000 tonnes) is the least likely scenario, they cannot really profit from the stochastic demand.\n",
    "    \n",
    "Overall, the changed circumstances leave Handle and especially ChemCo at a slight disatvantage due to their higher penalties. This would stir the auction a bit more in the direction of Ulme, who could further extend their lead in auction wins. Therefore, Ulme can be seen as the supplier with the least risk regarding demand uncertainty.\n",
    "</p>"
   ]
  },
  {
   "cell_type": "markdown",
   "metadata": {},
   "source": [
    "<div style=\"margin-top: 30px; margin-bottom: 10px;\">   \n",
    "    <span style =\"font-size: 40px; font-weight: bold; color: #8EB944; align: center\">\n",
    "        Day 5\n",
    "    </span>\n",
    "    <hr style=\"color: #8EB944; height: 3px;background-color: #8EB944;border: none\"> \n",
    "    </div>\n",
    "    \n",
    "<span style =\"font-size: 22px; font-weight: bold;color: #507F7F;\">\n",
    "        1. Calculate the TCO and how likely each supplier pairing is to happen if we split the contract 50/50\n",
    "\n",
    "\n",
    "</span>\n",
    "<hr style=\"color: #8EB944; height: 1px;background-color: #507F7F;border: none\">\n",
    "\n",
    "<p style=\"text-align: justify; font-size: 15px\"><b>Assumptions:</b> To incorporate the new scenario into our simulate_auction function, we again draw from the three cost distributions, but this time we select the first and second lowest bids. To ensure a fair profit for both suppliers that won the partial deal, we set the prices to the highest. Thus, we run a third price auction. Alternatively, one could pay the second lowest bid to the lowest cost supplier and the highest bid to the second lowest cost supplier.\n",
    "</p>"
   ]
  },
  {
   "cell_type": "code",
   "execution_count": null,
   "metadata": {},
   "outputs": [],
   "source": [
    "# Modify the previous function to simulate the split auctions\n",
    "def simulate_split_auction(num_times:int):\n",
    "    \n",
    "    # Create one dict for the results and one dict for the winners\n",
    "    results = {}\n",
    "    winners = {}\n",
    "    \n",
    "    # Use a for loop to simulate each auction\n",
    "    for n in range(num_times):\n",
    "        \n",
    "        # Generate the bid price for each supplier and round to two digits to get the price in euros\n",
    "        chemco = round(np.random.uniform(10,30),2)\n",
    "        handle = round(np.max([0,np.random.normal(35,10)]),2) \n",
    "        ulme = round(np.max([0,np.random.normal(65,10)]),2) \n",
    "        results[n] = [[chemco, \"ChemCo\"], \n",
    "                      [handle, \"Handle\"], \n",
    "                      [ulme, \"Ulme\"]]    \n",
    "        \n",
    "    # Populate the winners dict with the lists that contain the highest price in each auction\n",
    "    for key, arrays in results.items():\n",
    "        # Find the array with the lowest value and second lowest value\n",
    "        sorted_arrays = sorted(arrays, key=lambda x: x[0])\n",
    "        first = sorted_arrays[0]\n",
    "        second = sorted_arrays[1]\n",
    "        third = sorted_arrays[2]\n",
    "    \n",
    "        # Store the result in the new dictionary\n",
    "        winners[key] = [third[0],third[0], first[1],second[1]]\n",
    "        \n",
    "    return results, winners"
   ]
  },
  {
   "cell_type": "code",
   "execution_count": null,
   "metadata": {},
   "outputs": [],
   "source": [
    "# Simulate the split auction\n",
    "np.random.seed(42)\n",
    "results_split, winners_split = simulate_split_auction(10000)"
   ]
  },
  {
   "cell_type": "code",
   "execution_count": null,
   "metadata": {},
   "outputs": [],
   "source": [
    "# Create an array with the winning price of each auction\n",
    "winning_prices_split = [np.mean([winners_split[i][0],winners_split[i][1]]) for i in range(len(winners_split))]\n",
    "\n",
    "# Calculate the mean for the split auction price\n",
    "mu_split = np.mean(winning_prices_split)\n",
    "\n",
    "# Create a list that contains the two winners of each auction\n",
    "winner_names_split = [winners_split[i][2] + \" \" + winners_split[i][3] for i in range(len(winners_split))]\n",
    "\n",
    "# Count the number of times each combination won the auction\n",
    "num_handle_chemco = winner_names_split.count(\"Handle ChemCo\") + winner_names_split.count(\"ChemCo Handle\")\n",
    "num_handle_ulme = winner_names_split.count(\"Handle Ulme\") + winner_names_split.count(\"Ulme Handle\")\n",
    "num_chemco_ulme = winner_names_split.count(\"ChemCo Ulme\") + winner_names_split.count(\"Ulme ChemCo\")\n",
    "\n",
    "# Calculate the empirical probability for each supplier to win\n",
    "perc_handle_chemco = num_handle_chemco/10000\n",
    "perc_handle_ulme = num_handle_ulme/10000\n",
    "perc_chemco_ulme = num_chemco_ulme/10000"
   ]
  },
  {
   "cell_type": "code",
   "execution_count": null,
   "metadata": {},
   "outputs": [
    {
     "name": "stdout",
     "output_type": "stream",
     "text": [
      "Results:\n",
      "The total cost of ownership amount to 13,148,260.7€.\n",
      " \n",
      "Probabilities of each pairing winning:\n",
      "Handle and ChemCo 98.34%\n",
      "Handle and Ulme: 0.0%\n",
      "ChemCo and Ulme: 1.66%\n"
     ]
    }
   ],
   "source": [
    "# Define the adjustment cost and transportation cost for each supplier\n",
    "cost_handle = (20*50000)+1500000\n",
    "cost_ulme = 5 *50000\n",
    "cost_chemco = (15*50000)+3500000\n",
    "\n",
    "tco_split = mu_split * 100000 + perc_handle_chemco * (cost_handle + cost_chemco)\n",
    "+ perc_handle_ulme * (cost_handle + cost_ulme)\n",
    "+ perc_chemco_ulme * (cost_chemco + cost_ulme)\n",
    "        \n",
    "        \n",
    "print(f\"Results:\\nThe total cost of ownership amount to {round(tco_split,2):,}€.\\n\",\n",
    "     f\"\\nProbabilities of each pairing winning:\\nHandle and ChemCo {perc_handle_chemco*100}%\\nHandle and Ulme: {perc_handle_ulme*100}%\\nChemCo and Ulme: {perc_chemco_ulme*100}%\")"
   ]
  },
  {
   "cell_type": "markdown",
   "metadata": {},
   "source": [
    "<p style=\"text-align: justify; font-size: 15px\"><b>Analysis:</b> As expected, the total costs of ownership are significantly higher compared to the second price auction and the naive scoring auction. There are two main reasons for this: First, 50% of the total amount is now purchased at a much higher price because Ulme mostly comes in third and thus often sets the price for all 100,000 tons. Second, we now have to pay the setup costs for two suppliers instead of one, which is particularly problematic when ChemCo wins. This is the case for all 10,000 simulation runs. They pair up with Handle with a chance of 98.34% and with Ulme with a chance of 1.66%.\n",
    "</p>"
   ]
  },
  {
   "cell_type": "markdown",
   "metadata": {},
   "source": [
    "<span style =\"font-size: 22px; font-weight: bold;color: #507F7F;\">\n",
    "        2. What is the supply risk in case of single or split sourcing?\n",
    "\n",
    "\n",
    "</span>\n",
    "<hr style=\"color: #8EB944; height: 1px;background-color: #507F7F;border: none\">\n",
    "<p style=\"text-align: justify; font-size: 15px\"><b>Explanation:</b> To determine the supply risk, we need to calculate the expected number of missing tons for single and multi-sourcing. For multi-sourcing, there are 9 scenarios. There is one scenario for each of the three winning pairs. In each scenario one, none, or both suppliers may fail to deliver. \n",
    "    \n",
    "<p style=\"text-align: justify; font-size: 15px\">We calculate the probability for each scenario and then multiply it by the number of tons missed. For example, if Handle and Ulme win, the first term calculates the number of tons if Handle delivers (85%) and Ulme does not (5%). \n",
    "</p>"
   ]
  },
  {
   "cell_type": "code",
   "execution_count": null,
   "metadata": {},
   "outputs": [
    {
     "name": "stdout",
     "output_type": "stream",
     "text": [
      "Results: \n",
      "Number of tonnes for single sourcing:   23026.0 \n",
      "Number of tonnes for split/multi sourcing:    15083.0\n"
     ]
    }
   ],
   "source": [
    "# Calculate the expected number of missing tonnes for split (multi) sourcing\n",
    "risk_split =    perc_handle_ulme * ((0.05*0.85*50000) + (0.15*0.95*50000) + (0.15*0.05*100000)) +\\\n",
    "                perc_handle_chemco * ((0.05*0.75*50000) + (0.25*0.95*50000) + (0.25*0.05*100000)) +\\\n",
    "                perc_chemco_ulme * ((0.25*0.85*50000) + (0.15*0.75*50000) + (0.15*0.25*100000))\n",
    "\n",
    "# Calculate the expected number of tonnes missed for single sourcing\n",
    "risk_single =   percentage_ulme * (0.15* 100000) + \\\n",
    "                percentage_handle * (0.05* 100000) + \\\n",
    "                percentage_chemco * (0.25 * 100000)\n",
    "\n",
    "print(f\"Results: \\nNumber of tonnes for single sourcing:   {risk_single:} \\nNumber of tonnes for split/multi sourcing:    {risk_split}\")"
   ]
  },
  {
   "cell_type": "markdown",
   "metadata": {},
   "source": [
    "<p style=\"text-align: justify; font-size: 15px\"><b>Observation:</b> We can observe that the expected number of missing tones is lower for multi sourcing compared to single sourcing. Thus, multi-sourcing can be seen as a hedge against the supply risk."
   ]
  },
  {
   "cell_type": "markdown",
   "metadata": {},
   "source": [
    "<span style =\"font-size: 22px; font-weight: bold;color: #507F7F;\">\n",
    "        3. What will likely be cheaper, single or dual sourcing?\n",
    "\n",
    "\n",
    "</span>\n",
    "<hr style=\"color: #8EB944; height: 1px;background-color: #507F7F;border: none\">\n",
    "<p style=\"text-align: justify; font-size: 15px\"><b>Assumptions:</b> To compare the TCO of single and dual sourcing, we assume that the supplier bears the supply risk, i.e. we do not need to pay any setup, unit or transportation cost if the supplier fails to deliver. Therefore, we first multiply the expected number of tonnes we have to pay with the mean of the auction price. We subsequently add the additional cost associated with each supplier (for receiving 50,000 tonnes) multiplied with the corresponding probability of them delivering.\n",
    "</p>"
   ]
  },
  {
   "cell_type": "code",
   "execution_count": null,
   "metadata": {},
   "outputs": [
    {
     "name": "stdout",
     "output_type": "stream",
     "text": [
      "The TCO of split sourcing without the cost for purchasing the missing tonnes from our competitor are 10,998,523.04€\n"
     ]
    }
   ],
   "source": [
    "# Define the adjustment cost and transportation cost for each supplier for multi sourcing\n",
    "cost_handle = (20*50000)+1500000\n",
    "cost_ulme = 5 *50000\n",
    "cost_chemco = (15*50000)+3500000\n",
    "\n",
    "\n",
    "\n",
    "tco_split_cost = mu_split * (100000-risk_split) + perc_handle_chemco * (cost_handle * 0.95 + cost_chemco * 0.75)\n",
    "+ perc_handle_ulme * (cost_handle * 0.95 + cost_ulme * 0.85)\n",
    "+ perc_chemco_ulme * (cost_chemco * 0.75 + cost_ulme * 0.85)\n",
    "\n",
    "\n",
    "print(f\"The TCO of split sourcing without the cost for purchasing the missing tonnes from our competitor are {round(tco_split_cost,2):,}€\")"
   ]
  },
  {
   "cell_type": "code",
   "execution_count": null,
   "metadata": {},
   "outputs": [
    {
     "name": "stdout",
     "output_type": "stream",
     "text": [
      "Results: \n",
      "TCO for single sourcing:  $13,003,150.0€ \n",
      "TCO for dual sourcing:    $14,015,123.04€\n"
     ]
    }
   ],
   "source": [
    "# Calculate the TCO for Single and dual sourcing including the 200 euro extra cost per missing tone of vitronium\n",
    "tco_single = total_cost_ownership + risk_single * 200\n",
    "\n",
    "tco_split_risk = tco_split_cost + risk_split * 200\n",
    "\n",
    "print(f\"Results: \\nTCO for single sourcing:  ${tco_single:,}€ \\nTCO for dual sourcing:    ${round(tco_split_risk,2):,}€\")"
   ]
  },
  {
   "cell_type": "markdown",
   "metadata": {},
   "source": [
    "<p style=\"text-align: justify; font-size: 15px\"><b>Answer:</b> The expected total cost of ownership for dual sourcing are roughly \\$1 Million higher for multi-sourcing. Despite the fact that multisourcing is a hedge against the supply risk, the expected costs are still higher. We mainly attribute this to the significantly highly setup cost in the case of multi sourcing. In 98% of the simulated runs Beier would have to pay $5Million for setup costs alone. The hedge against the supply risk only results in cost saving of 200 minus the average auction price times 23026-15083, which is the supply risk difference between the two sourcing strategies. \n",
    "</p>"
   ]
  },
  {
   "cell_type": "code",
   "execution_count": null,
   "metadata": {},
   "outputs": [
    {
     "name": "stdout",
     "output_type": "stream",
     "text": [
      "Cost savings of supply risk hedge: -$1,071,486.02€\n"
     ]
    }
   ],
   "source": [
    "# calculate the cost saving from hedging against the supply risk\n",
    "cost_sav = (risk_single-risk_split)*(200-mu_split)\n",
    "\n",
    "print(f\"Cost savings of supply risk hedge: -${round(cost_sav,2):,}€\")"
   ]
  },
  {
   "cell_type": "code",
   "execution_count": null,
   "metadata": {},
   "outputs": [],
   "source": []
  },
  {
   "cell_type": "markdown",
   "metadata": {},
   "source": [
    "<div style=\"margin-top: 30px; margin-bottom: 10px;\">   \n",
    "    <span style =\"font-size: 40px; font-weight: bold; color: #8EB944; align: center\">\n",
    "        Day 6\n",
    "    </span>\n",
    "    <hr style=\"color: #8EB944; height: 3px;background-color: #8EB944;border: none\"> \n",
    "    </div>\n",
    "    \n",
    "<span style =\"font-size: 22px; font-weight: bold;color: #507F7F;\">\n",
    "        1. Simulate\n",
    "     10000 auctions for every integer bonus per nozzle\n",
    "     in the interval between 10 and 40 EUR\n",
    "\n",
    "\n",
    "</span>\n",
    "<hr style=\"color: #8EB944; height: 1px;background-color: #507F7F;border: none\">\n",
    "\n",
    "<p style=\"text-align: justify; font-size: 15px\"><b>Explanation:</b> We have decided to simulate the 10,000 auctions for every Integer between 10 and 41. The nozzle_auction function first generates two numbers between 200 and 300, which are the costs for Tarjet and Sameos respectively. Since there is no clear indication of a distribution in the task, we assume both cost functions to be uniformly distributed. Next, we must subtract the Bonus from sameos cost, as the bonus lowers their bid. The auction price is then determined in the second price format. <br>\n",
    "    If Tarjet wins, we calculate the quality adjusted price by adding the adjustment cost per unit of 45 to Sameos' bid. If Sameos wins, we have to add Tarjet's bid and the bonus. Finally, the function returns the results as an array.\n",
    "</p>"
   ]
  },
  {
   "cell_type": "code",
   "execution_count": null,
   "metadata": {},
   "outputs": [],
   "source": [
    "def nozzle_auction(num_times:int):\n",
    "    \n",
    "    # Create a list to save the average price for each bonus\n",
    "    results = []\n",
    "    \n",
    "    # Simulate for each bonus between 10 and 40\n",
    "    for bonus in range(10,41):\n",
    "        \n",
    "        # Store the winner of each of the 10,000 auction in this array\n",
    "        winners = []\n",
    "\n",
    "        # Simulate 10,000 auctions\n",
    "        for n in range(num_times):\n",
    "            \n",
    "            # Draw a sample for tarjet and sameos minus the bonus\n",
    "            tarjet = round(np.random.uniform(200,300),2)\n",
    "            sameos = round(np.random.uniform(200,300),2) - bonus\n",
    "    \n",
    "            # Determine the winner and the resulting quality adjusted price\n",
    "            if sameos <= tarjet:\n",
    "        \n",
    "                winners.append((tarjet+bonus))\n",
    "        \n",
    "            else:\n",
    "                \n",
    "                # If tarjet wins, we need to add the 45,000 adjustment cost\n",
    "                winners.append(sameos + 45)\n",
    "         \n",
    "        # Determine the average price of the 10,000 auctions and append it to the results\n",
    "        average_price = np.mean(winners)\n",
    "        results.append(round(average_price,2))\n",
    "        \n",
    "    return results\n",
    "            \n"
   ]
  },
  {
   "cell_type": "code",
   "execution_count": null,
   "metadata": {},
   "outputs": [],
   "source": [
    "# Simulate the auction 10,0000 times for each bonus\n",
    "np.random.seed(42)\n",
    "results_nozzles = nozzle_auction(10000)"
   ]
  },
  {
   "cell_type": "code",
   "execution_count": null,
   "metadata": {},
   "outputs": [
    {
     "name": "stdout",
     "output_type": "stream",
     "text": [
      "Results: \n",
      "Optimal Bonus: 13\n",
      "Resulting expected quality adjusted price: $285.91\n"
     ]
    }
   ],
   "source": [
    "# Get the minimum cost from the results list\n",
    "minimum_cost = min(results_nozzles)\n",
    "\n",
    "# Get the corresponding index and calculate the optimal bonus\n",
    "bonus = 10 + results_nozzles.index(minimum_cost)\n",
    "\n",
    "print(f\"Results: \\nOptimal Bonus: {bonus}\\nResulting expected quality adjusted price: ${minimum_cost:,}\")\n"
   ]
  },
  {
   "cell_type": "code",
   "execution_count": null,
   "metadata": {},
   "outputs": [
    {
     "data": {
      "image/png": "[encoded data removed]",
      "text/plain": [
       "<Figure size 2000x1000 with 1 Axes>"
      ]
     },
     "metadata": {},
     "output_type": "display_data"
    }
   ],
   "source": [
    "# Create a nice looking plot to display the results\n",
    "x_axis = np.linspace(10,41,31)\n",
    "plt.figure(figsize=(20,10))\n",
    "plt.plot(x_axis, results_nozzles, marker='o', linestyle='-', color='green', linewidth=2, markersize=8,label=\"Total Cost\")\n",
    "plt.legend()\n",
    "plt.xlabel('Bonus',size=15)\n",
    "plt.ylabel('Quality Adjusted Price',size=15)\n",
    "plt.title(\"Quality Adjusted Price vs Bonus Paid to Sameos\")\n",
    "#plt.ylim(250000,285000)\n",
    "\n",
    "plt.grid('True')\n",
    "plt.show()"
   ]
  },
  {
   "cell_type": "markdown",
   "metadata": {},
   "source": [
    "<p style=\"text-align: justify; font-size: 15px\"><b>Analysis:</b> This plot shows the quality adjusted price depending on the bonus paid to Sameos. The optimal bonus that yields the lowest quality adjusted price (QAP) is 13, but the QAP doesn't change much until 20. Any bonus above 20 increases the QAP. <br>There are two scenarios: Either Tarjet has a lower cost and we have to pay the \\$45 per nozzle adjustment cost, or Sameos has a lower cost. In the first case, it would be advantageous to pay a bonus of up to $\\$45$ to Sameos, because it would always be cheaper than paying the penalty. The optimal bonus in this case would be the difference in cost between Sameos and Tarjet, so that Sameos just about wins the auction if the cost difference is lower than \\$45. In the second case, every cent in bonuses is wasted. These effects balance out between 10 and 20, with the optimal number heavily depending on the chosen seed.\n",
    "</p>"
   ]
  },
  {
   "cell_type": "markdown",
   "metadata": {},
   "source": [
    "<hr style=\"color: #8EB944; height: 3px;background-color: #8EB944;border: none\"> "
   ]
  }
 ],
 "metadata": {
  "language_info": {
   "name": "python"
  }
 },
 "nbformat": 4,
 "nbformat_minor": 2
}
