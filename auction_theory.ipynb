{
 "cells": [
  {
   "cell_type": "markdown",
   "id": "fb27e019-bf16-4d32-996d-ba0b84bbed86",
   "metadata": {},
   "source": [
    "<div style=\"display: flex; align-items: center;margin-bottom: 30px;color: #8EB944\">\n",
    "    <img src=https://wisoinbox.uni-koeln.de/images/wiso_button_en.png width=\"80\"> \n",
    "    <span style=\"margin-left: 20px;font-size: 50px;font-weight:bold\";>Group Project: Strategic Sourcing</span>\n",
    "</div>\n",
    "\n",
    "<div>\n",
    "    <span style=\"font-size: 20px;font-weight: bold\";>Group Members:</span>\n",
    "\n",
    "<ul>\n",
    "    <li>Tom Boerrigter | 7419077</li>\n",
    "    <li>Niklas Sterz | 7419545</li>\n",
    "</ul>\n",
    "</div>"
   ]
  },
  {
   "cell_type": "markdown",
   "id": "1fc66492-6bd5-4a4c-a860-152ac1b55025",
   "metadata": {},
   "source": [
    "<div>\n",
    "    <span style =\"font-size: 40px; font-weight: bold; color: #8EB944\">\n",
    "        Preparation\n",
    "    </span>\n",
    "    \n",
    "<hr style=\"color: #8EB944; height: 3px;background-color: #8EB944;border: none\">\n",
    "</div>"
   ]
  },
  {
   "cell_type": "code",
   "execution_count": 1,
   "id": "24865463-b582-4ae4-9d62-408b0af062af",
   "metadata": {
    "tags": []
   },
   "outputs": [],
   "source": [
    "# import the most important libraries\n",
    "import pandas as pd\n",
    "import numpy as np\n",
    "import matplotlib.pyplot as plt\n",
    "import seaborn as sns"
   ]
  },
  {
   "cell_type": "markdown",
   "id": "f502ce69-fbc5-4909-8dd7-fe6a83b242a5",
   "metadata": {},
   "source": [
    "<div style=\"margin-top: 30px; margin-bottom: 10px;\">   \n",
    "    <span style =\"font-size: 40px; font-weight: bold; color: #8EB944; align: center\">\n",
    "        Day 1\n",
    "    </span>\n",
    "    <hr style=\"color: #8EB944; height: 3px;background-color: #8EB944;border: none\"> \n",
    "    </div>\n",
    "    \n",
    "  <span style =\"font-size: 22px; font-weight: bold;color: #507F7F;\">\n",
    "        1. Calculate the additional cost of vitronium per supplier\n",
    "</span>\n",
    "<hr style=\"color: #8EB944; height: 1px;background-color: #507F7F;border: none\"> "
   ]
  },
  {
   "cell_type": "markdown",
   "id": "04fe5814-a3ce-42d6-b722-0d4469caef11",
   "metadata": {
    "tags": []
   },
   "source": [
    "<p style =\"font-size: 15px;\">The additional cost per tonne of vitronium are summarized in the following table: </p>\n",
    "<table style=\"text-align: center; font-size:15px;\">\n",
    "  <tr>\n",
    "    <th></th>\n",
    "    <th>ChemCo</th>\n",
    "    <th>Handle</th> \n",
    "    <th>Ulme</th>\n",
    "  </tr>\n",
    "  <tr>\n",
    "    <td style=\"font-weight: bold; text-align: left;\">transportation cost / tonne</td>\n",
    "    <td>15€</td>\n",
    "    <td>20€</td> \n",
    "    <td>5€</td>\n",
    "  </tr>\n",
    "  <tr style=\"border-bottom: 3px solid;\">\n",
    "    <td style=\"font-weight: bold; text-align: left;\">setup cost / tonne</td>\n",
    "    <td>35€</td>\n",
    "    <td>15€</td> \n",
    "    <td>---</td>\n",
    "  </tr>\n",
    "    <tr>\n",
    "    <td style=\"font-weight: bold; text-align: left;\">additional cost / tonne</td>\n",
    "    <td>50€</td>\n",
    "    <td>35€</td> \n",
    "    <td>5€</td>\n",
    "  </tr>\n",
    "</table>\n",
    "<p style =\"font-size: 15px;\">The transportation cost per tonne are mentioned in the CPO's e-mail. The setup cost per tonne can easily be calculated by dividing the fixed setup cost by 100,000, which is the total amount of vitronium needed. <br></p>\n",
    "    \n",
    "<span style =\"font-size: 22px; font-weight: bold;color: #507F7F;\">\n",
    "        2. For which demand is ChemCo's additional cost per tonne lower than Handle's?\n",
    "</span>\n",
    "<hr style=\"color: #8EB944; height: 1px;background-color: #507F7F;border: none\"> \n",
    "<p style =\"font-size: 15px;\">In order to get the demand for which the price of ChemCo's additional cost per tonne of Vitronium is cheaper than Handle's, we need to equalize the two cost functions and solve the resulting euqation for x:\n",
    "$$ 15x + 350000 \\stackrel{!}{=} 20x + 1500000 \\qquad | -15x \\quad |-1500000 $$\n",
    "$$ 2000000 = 5x \\qquad | /5 $$\n",
    "$$ x \\geq 400000 $$\n",
    "<p style =\"font-size: 15px;\">\n",
    "    <b>Answer:</b> Hence, if the ordered amount exceeds 400,000 units of vitronoium, ChemCo's offer will be cheaper.</p>"
   ]
  },
  {
   "cell_type": "markdown",
   "id": "bd26bb47-c0ac-49ed-a319-aab7d8e08b31",
   "metadata": {
    "tags": []
   },
   "source": [
    "<div style=\"margin-top: 30px; margin-bottom: 10px;\">   \n",
    "    <span style =\"font-size: 40px; font-weight: bold; color: #8EB944; align: center\">\n",
    "        Day 2\n",
    "    </span>\n",
    "    <hr style=\"color: #8EB944; height: 3px;background-color: #8EB944;border: none\"> \n",
    "    </div>"
   ]
  },
  {
   "cell_type": "markdown",
   "id": "f5572a81-f71d-4a0b-acbd-f947d8402b6f",
   "metadata": {},
   "source": [
    "<span style =\"font-size: 22px; font-weight: bold;color: #507F7F;\">\n",
    "        1. Simulate 10,000 auctions using the cost information above.\n",
    "</span>\n",
    "<hr style=\"color: #8EB944; height: 1px;background-color: #507F7F;border: none\">"
   ]
  },
  {
   "cell_type": "markdown",
   "id": "62245db3-d32b-4429-9ffe-eef1a0ac0042",
   "metadata": {},
   "source": [
    "<p style =\"font-size: 15px;\">\n",
    "    <b>Explanation:</b> To simulate the auctions, we first create two empty dictionaries, 'results' and 'winners'. We then loop through each of the auctions, generating costs for each supplier using the information from the exercise. The resulting bids are then stored in the 'results' dictionary with the name and bid of the three suppliers. Then the name of the supplier with the lowest cost (winner) and the cost of the lowest cost supplier (winner price) are stored in the 'winners' dictionary.\n",
    "</p>"
   ]
  },
  {
   "cell_type": "code",
   "execution_count": 2,
   "id": "4c1cc75a-574d-4cb4-ae65-d5478da050cd",
   "metadata": {
    "tags": []
   },
   "outputs": [],
   "source": [
    "# define a function to simulate the auctions\n",
    "def simulate_auction(num_times:int):\n",
    "    # Create one dict for the results and one dict for the winners\n",
    "    results = {}\n",
    "    winners = {}\n",
    "    \n",
    "    # Use a for loop to simulate each auction\n",
    "    for n in range(num_times):\n",
    "        \n",
    "        # Generate the bid price for each supplier and round to two digits to get the price in euros\n",
    "        chemco = round(np.random.uniform(10,30),2)\n",
    "        handle = round(np.max([0,np.random.normal(35,10)]),2)\n",
    "        ulme = round(np.max([0,np.random.normal(65,10)]),2)\n",
    "        results[n] = [[chemco, \"ChemCo\"], [handle, \"Handle\"], [ulme, \"Ulme\"]]    \n",
    "        \n",
    "    # Populate the winners dict with the lists that contain the highest price in each auction\n",
    "    for key, arrays in results.items():\n",
    "        # Find the array with the lowest value and second lowest value\n",
    "        sorted_arrays = sorted(arrays, key=lambda x: x[0])\n",
    "        lowest = sorted_arrays[0]\n",
    "        second_lowest = sorted_arrays[1]\n",
    "    \n",
    "        # Store the result in the new dictionary\n",
    "        winners[key] = [second_lowest[0],lowest[1]]\n",
    "        \n",
    "    return results, winners"
   ]
  },
  {
   "cell_type": "code",
   "execution_count": 3,
   "id": "dc7b3804-a23d-4983-a3c9-fc903aac2a3f",
   "metadata": {
    "tags": []
   },
   "outputs": [],
   "source": [
    "# Simulate the 10000 auctions\n",
    "np.random.seed(42)\n",
    "results_10000, winners_10000 = simulate_auction(10000)"
   ]
  },
  {
   "cell_type": "markdown",
   "id": "eed34a86-be74-4681-8cf9-e782d568891e",
   "metadata": {},
   "source": [
    "<span style =\"font-size: 22px; font-weight: bold;color: #507F7F;\">\n",
    "        2. Determine the auction price in each of these 10,000\n",
    "     auctions.\n",
    "</span>\n",
    "<hr style=\"color: #8EB944; height: 1px;background-color: #507F7F;border: none\">"
   ]
  },
  {
   "cell_type": "markdown",
   "id": "72e96045-78b3-46af-a825-436ebcd4fab0",
   "metadata": {},
   "source": [
    "<p style =\"font-size: 15px;\">\n",
    "    <b>Explanation:</b> We retrieve the first 10 simulation runs from the 'winners' dictionary. We observe that ChemCo won the first ten auctions.\n",
    "</p>"
   ]
  },
  {
   "cell_type": "code",
   "execution_count": 4,
   "id": "34dd3109-b3fc-4759-ae96-d0ee48065235",
   "metadata": {
    "tags": []
   },
   "outputs": [
    {
     "name": "stdout",
     "output_type": "stream",
     "text": [
      "Auction 1: Winner: ChemCo | Price: 23.88€\n",
      "Auction 2: Winner: ChemCo | Price: 50.79€\n",
      "Auction 3: Winner: ChemCo | Price: 29.19€\n",
      "Auction 4: Winner: ChemCo | Price: 37.42€\n",
      "Auction 5: Winner: ChemCo | Price: 43.16€\n",
      "Auction 6: Winner: ChemCo | Price: 25.92€\n",
      "Auction 7: Winner: ChemCo | Price: 28.71€\n",
      "Auction 8: Winner: ChemCo | Price: 29.56€\n",
      "Auction 9: Winner: ChemCo | Price: 29.0€\n",
      "Auction 10: Winner: ChemCo | Price: 28.98€\n"
     ]
    }
   ],
   "source": [
    "# Print the auction winner and price for 10 auctions\n",
    "for i in range(10):\n",
    "    print(f\"Auction {i+1}: Winner: {winners_10000[i][1]} | Price: {winners_10000[i][0]}€\")"
   ]
  },
  {
   "cell_type": "markdown",
   "id": "85516efe-4e13-434f-994a-8f3c1a8e5d48",
   "metadata": {},
   "source": [
    "<span style =\"font-size: 22px; font-weight: bold;color: #507F7F;\">\n",
    "        3. Determine the average auction price.\n",
    "</span>\n",
    "<hr style=\"color: #8EB944; height: 1px;background-color: #507F7F;border: none\">"
   ]
  },
  {
   "cell_type": "markdown",
   "id": "1f3aefa7-615f-4cbf-8ae3-d296c8ee08c7",
   "metadata": {},
   "source": [
    "<p style =\"font-size: 15px;\">\n",
    "    <b>Explanation:</b> We retrieve all of the 10000 auction prices from the 'winners' dictionary and calculate and display the mean.\n",
    "</p>"
   ]
  },
  {
   "cell_type": "code",
   "execution_count": 5,
   "id": "0489f29b-9042-4a28-829e-151e2b0d5d48",
   "metadata": {
    "tags": []
   },
   "outputs": [
    {
     "name": "stdout",
     "output_type": "stream",
     "text": [
      "The average auction price is 35.46€.\n"
     ]
    }
   ],
   "source": [
    "# Create an array with the winning price of each auction\n",
    "winning_prices = [winners_10000[i][0] for i in range(len(winners_10000))]\n",
    "\n",
    "# Calculate and print the mean\n",
    "mu = np.round(np.mean(winning_prices),2)\n",
    "\n",
    "print(f\"The average auction price is {mu}€.\")"
   ]
  },
  {
   "cell_type": "markdown",
   "id": "23406573-b682-443e-aabe-51a6b08a3426",
   "metadata": {},
   "source": [
    "<span style =\"font-size: 22px; font-weight: bold;color: #507F7F;\">\n",
    "        4. With which probability can we expect\n",
    "     Ulme to win the auction in three weeks?\n",
    "</span>\n",
    "<hr style=\"color: #8EB944; height: 1px;background-color: #507F7F;border: none\">\n",
    "\n",
    "<p style =\"font-size: 15px;\"><b>Assumption:</b> We have interpreted the task as referring to empirical probability rather than the ex-ante theoretical probability. Therefore, we must count the number of times Ulme won a simulated auction and divide the result by 10,000 to determine the empirical probability. </p>\n"
   ]
  },
  {
   "cell_type": "code",
   "execution_count": 6,
   "id": "f705eafe-63ad-4a21-b909-e903272b837a",
   "metadata": {
    "tags": []
   },
   "outputs": [
    {
     "name": "stdout",
     "output_type": "stream",
     "text": [
      "Ulme won the auction 0 times. Thus the expected probability of them winning is 0.0%\n"
     ]
    }
   ],
   "source": [
    "# Create a list that contains the winners name of each auction\n",
    "winner_names = [winners_10000[i][1] for i in range(len(winners_10000))]\n",
    "\n",
    "# Count the number of times Ulme won \n",
    "num_ulme = winner_names.count('Ulme')\n",
    "percentage_ulme = (num_ulme/10000)\n",
    "\n",
    "print(f\"Ulme won the auction {num_ulme} times. Thus the expected probability of them winning is {percentage_ulme*100}%\")"
   ]
  },
  {
   "cell_type": "markdown",
   "id": "0b849812-19c5-43c5-9b8d-206cf03a5048",
   "metadata": {},
   "source": [
    "\n",
    "<span style =\"font-size: 22px; font-weight: bold;color: #507F7F;\">\n",
    "        5. What is the variance of the auction price according to\n",
    "     1.  and 2.  if you simulate 10, 100, 1,000, 10,000, and\n",
    "     100,000 auctions?\n",
    "</span>\n",
    "<hr style=\"color: #8EB944; height: 1px;background-color: #507F7F;border: none\">\n"
   ]
  },
  {
   "cell_type": "code",
   "execution_count": 7,
   "id": "56ce6d9b-ea00-4782-9684-ce5e23ef1192",
   "metadata": {
    "tags": []
   },
   "outputs": [],
   "source": [
    "# Create a list with the number of auction we want to simulate\n",
    "num_auctions = [10,100,1000,10000,100000]\n",
    "np.random.seed(42)\n",
    "\n",
    "# Create an empty list to store the variances\n",
    "var_winners = []\n",
    "\n",
    "# Create a dict to store the winning prices for each number of auctions\n",
    "auction_prices_num = {}\n",
    "\n",
    "# Create a dict to store the winner of each auction\n",
    "auction_winners_num = {}\n",
    "\n",
    "for auctions in num_auctions:\n",
    "    \n",
    "    # Simulate the auctions and get the winning prices\n",
    "    results, winners = simulate_auction(auctions)\n",
    "    winning_prices = [winners[i][0] for i in range(len(winners))]\n",
    "    \n",
    "    # Count how many times each supplier won\n",
    "    winner_names_num = [winners[i][1] for i in range(len(winners))]\n",
    "    auction_winners_num[auctions] = winner_names_num\n",
    "    \n",
    "    # Append the winning prices to the dict\n",
    "    auction_prices_num[auctions] = winning_prices\n",
    "    \n",
    "    # Calculate the variance and add it to the list\n",
    "    variance = np.round(np.var(winning_prices),4)\n",
    "    var_winners.append(variance)"
   ]
  },
  {
   "cell_type": "code",
   "execution_count": 8,
   "id": "dcc63c45-3ea1-4a81-a9a3-87c7ae0cc1c9",
   "metadata": {
    "tags": []
   },
   "outputs": [
    {
     "name": "stdout",
     "output_type": "stream",
     "text": [
      "Results:\n",
      "Variance for 10 auctions: 64.8312\n",
      "Variance for 100 auctions: 79.3415\n",
      "Variance for 1000 auctions: 79.6009\n",
      "Variance for 10000 auctions: 84.1928\n",
      "Variance for 100000 auctions: 82.275\n"
     ]
    }
   ],
   "source": [
    "print(\"Results:\")\n",
    "for i in range(5):\n",
    "    print(f\"Variance for {num_auctions[i]} auctions: {var_winners[i]}\")"
   ]
  },
  {
   "cell_type": "markdown",
   "id": "6bebf1df-e334-4d13-b357-d43d0a2bf839",
   "metadata": {},
   "source": [
    "<p style =\"font-size: 15px;\"><b>Explanation:</b> The variance of the auctions seems to increase with the number of simulations. At first glance, this may seem counterintuitive, as most would expect the variance to be lower for a higher number of simulations when using probability distributions. To find the reason, we can visualise the data:</p>"
   ]
  },
  {
   "cell_type": "code",
   "execution_count": 9,
   "id": "a6d31fdb-2909-4b53-b34c-0e9e56f34048",
   "metadata": {
    "tags": []
   },
   "outputs": [
    {
     "data": {
      "image/png": "[encoded data removed]",
      "text/plain": [
       "<Figure size 1000x600 with 1 Axes>"
      ]
     },
     "metadata": {},
     "output_type": "display_data"
    }
   ],
   "source": [
    "# Get the data for 10 and 100 auctions\n",
    "data = auction_prices_num[10]\n",
    "data2 = auction_prices_num[100]\n",
    "\n",
    "# Create the density plot\n",
    "plt.figure(figsize=(10, 6))\n",
    "sns.kdeplot(data=data, fill=True, color=\"lightblue\", alpha=0.5,label=\"10 Simulations\")\n",
    "sns.kdeplot(data=data2, fill=True, color=\"lightgreen\", alpha=0.5,label=\"100 Simulations\")\n",
    "\n",
    "# Customize the plot\n",
    "plt.title(\"Density Plot of Auction Prices \")\n",
    "plt.legend()\n",
    "plt.xlabel(\"Auction Price\")\n",
    "plt.ylabel(\"Density\")\n",
    "plt.grid(True)\n",
    "plt.show()\n"
   ]
  },
  {
   "cell_type": "markdown",
   "id": "c2b7ef49-48e2-4649-b3cd-b3bd1992267e",
   "metadata": {},
   "source": [
    "<p style =\"font-size: 15px;\"><b>Analysis:</b> This plot visualizes the variance for 10 and 100 auctions, respectively. The density plot of the 10 auctions shows a higher variance than that of the 100 auctions. Due to the small sample size of the 10 auctions, ChemCo wins all the auctions because its probability of winning is much higher than the probability of winning for Handle and Ulme. Thus, the numbers are drawn from the same standard distribution with $\\mu = 35$ and $\\sigma = 10$. On the other hand, Handle wins a considerable amount when the auction is simulated 100 times. The auction price is drawn 13 times from Ulme's distribution with completely different parameters of $\\mu = 65$ and $\\sigma = 15$. This results in a much more complex function and thus a higher variance. The distributions of winners for different numbers of simulation runs are presented in the cell below.</p>"
   ]
  },
  {
   "cell_type": "code",
   "execution_count": 10,
   "id": "5eec3c24-fc92-4ed2-a344-551a48cfa65d",
   "metadata": {
    "tags": []
   },
   "outputs": [
    {
     "name": "stdout",
     "output_type": "stream",
     "text": [
      "Number of times Handle and ChemCo won the auction for each number of simulations: \n",
      "\n",
      "10 Auctions: \n",
      "Handle: 0 \n",
      "ChemCo: 10 \n",
      "Ulme: 0\n",
      "\n",
      "100 Auctions: \n",
      "Handle: 13 \n",
      "ChemCo: 87 \n",
      "Ulme: 0\n",
      "\n",
      "1000 Auctions: \n",
      "Handle: 97 \n",
      "ChemCo: 903 \n",
      "Ulme: 0\n",
      "\n",
      "10000 Auctions: \n",
      "Handle: 977 \n",
      "ChemCo: 9023 \n",
      "Ulme: 0\n",
      "\n",
      "100000 Auctions: \n",
      "Handle: 9701 \n",
      "ChemCo: 90298 \n",
      "Ulme: 1\n",
      "\n"
     ]
    }
   ],
   "source": [
    "print(\"Number of times Handle and ChemCo won the auction for each number of simulations: \\n\")\n",
    "for auction in num_auctions:\n",
    "    print(f\"{auction} Auctions: \\nHandle: {auction_winners_num[auction].count('Handle')} \\nChemCo: {auction_winners_num[auction].count('ChemCo')} \\nUlme: {auction_winners_num[auction].count('Ulme')}\\n\")"
   ]
  },
  {
   "cell_type": "markdown",
   "id": "50caaaa4-074a-403f-8f9a-cd301500b0c8",
   "metadata": {},
   "source": [
    "<span style =\"font-size: 22px; font-weight: bold;color: #507F7F;\">\n",
    "         6. How much lower is the\n",
    "     expected auction price if Handle qualifies?\n",
    "\n",
    "</span>\n",
    "\n",
    "<hr style=\"color: #8EB944; height: 1px;background-color: #507F7F;border: none\">\n",
    "<p style =\"font-size: 15px;\"><b>Explanation:</b> To get the new expected auction price, we first modify the function 'simulate_auction' from the first part of the task to exclude Handle. We then rerun steps 2 to 4 to calculate the new results and the difference in the expected auction price.  </p>"
   ]
  },
  {
   "cell_type": "code",
   "execution_count": 11,
   "id": "98770046-d560-4348-84ad-9703905d91a2",
   "metadata": {
    "tags": []
   },
   "outputs": [],
   "source": [
    "# Modify the simulate_auction function to exclude Handle from the auction\n",
    "def simulate_auction_2(num_times:int):\n",
    "    # Create one dict for the results and one dict for the winners\n",
    "    results = {}\n",
    "    winners = {}\n",
    "    \n",
    "    # Use a for loop to simulate each auction\n",
    "    for n in range(num_times):\n",
    "        \n",
    "        # Generate the bid price for each supplier and round to two digits to get the price in euros\n",
    "        chemco = round(np.random.uniform(10,30),2)\n",
    "        ulme = round(np.max([0,np.random.normal(65,10)]),2)\n",
    "        results[n] = [[chemco, \"ChemCo\"], [ulme, \"Ulme\"]]    \n",
    "        \n",
    "    # Populate the winners dict with the lists that contain the highest price in each auction\n",
    "    for key, arrays in results.items():\n",
    "        # Find the array with the lowest value and second lowest value\n",
    "        sorted_arrays = sorted(arrays, key=lambda x: x[0])\n",
    "        lowest = sorted_arrays[0]\n",
    "        second_lowest = sorted_arrays[1]\n",
    "    \n",
    "        # Store the result in the new dictionary\n",
    "        winners[key] = [second_lowest[0],lowest[1]]\n",
    "        \n",
    "    return results, winners"
   ]
  },
  {
   "cell_type": "code",
   "execution_count": 12,
   "id": "85802e82-2243-4115-9ee9-14ea5419bd01",
   "metadata": {
    "tags": []
   },
   "outputs": [],
   "source": [
    "# Simulate the auction without Handle\n",
    "np.random.seed(42)\n",
    "results_new, winners_new = simulate_auction_2(10000)"
   ]
  },
  {
   "cell_type": "code",
   "execution_count": 13,
   "id": "c7a78a7e-a743-44d0-8de2-11f8dd4219c7",
   "metadata": {
    "tags": []
   },
   "outputs": [
    {
     "name": "stdout",
     "output_type": "stream",
     "text": [
      "Auction 1: Winner: ChemCo | Price: 53.88€\n",
      "Auction 2: Winner: ChemCo | Price: 68.19€\n",
      "Auction 3: Winner: ChemCo | Price: 67.79€\n",
      "Auction 4: Winner: ChemCo | Price: 75.11€\n",
      "Auction 5: Winner: ChemCo | Price: 59.19€\n",
      "Auction 6: Winner: ChemCo | Price: 59.75€\n",
      "Auction 7: Winner: ChemCo | Price: 38.87€\n",
      "Auction 8: Winner: ChemCo | Price: 74.5€\n",
      "Auction 9: Winner: ChemCo | Price: 60.72€\n",
      "Auction 10: Winner: ChemCo | Price: 57.58€\n"
     ]
    }
   ],
   "source": [
    "# Print the auction winner and price for 10 auctions\n",
    "for i in range(10):\n",
    "    print(f\"Auction {i+1}: Winner: {winners_new[i][1]} | Price: {winners_new[i][0]}€\")"
   ]
  },
  {
   "cell_type": "code",
   "execution_count": 14,
   "id": "829f1155-0296-42f4-a75f-0770f1aac097",
   "metadata": {
    "tags": []
   },
   "outputs": [
    {
     "name": "stdout",
     "output_type": "stream",
     "text": [
      "The average auction price is 64.95 Euros. Thus, Handle competing lowers the expected auction price by 29.49€.\n"
     ]
    }
   ],
   "source": [
    "# Create an array with the winning price of each auction\n",
    "winning_prices_new = [winners_new[i][0] for i in range(len(winners_new))]\n",
    "\n",
    "# Calculate and print the mean and the difference to the old auction price\n",
    "mu_new = np.mean(winning_prices_new)\n",
    "difference_mu = np.round(mu_new - mu,2)\n",
    "\n",
    "print(f\"The average auction price is {np.round(mu_new,2)} Euros. Thus, Handle competing lowers the expected auction price by {difference_mu}€.\")"
   ]
  },
  {
   "cell_type": "code",
   "execution_count": 15,
   "id": "f782479f-642b-4de3-8284-7fa777bce0d5",
   "metadata": {
    "tags": []
   },
   "outputs": [
    {
     "name": "stdout",
     "output_type": "stream",
     "text": [
      "Ulme won the auction 0 times. Thus the expected probability of them winning is 0.0%. This is 0.0% higher than when Handle still competed.\n"
     ]
    }
   ],
   "source": [
    "# Create a list that contains the winners name of each auction\n",
    "winner_names_new = [winners_new[i][1] for i in range(len(winners_new))]\n",
    "\n",
    "# Count the number of times Ulme won \n",
    "num_ulme_new = winner_names_new.count('Ulme')\n",
    "percentage_ulme_new = (num_ulme_new/10000)\n",
    "\n",
    "# Calculate difference between the old and new percentage\n",
    "difference_percentage = np.round(percentage_ulme_new - percentage_ulme,4)\n",
    "\n",
    "print(f\"Ulme won the auction {num_ulme_new} times. Thus the expected probability of them winning is {percentage_ulme_new*100}%. \" \n",
    "      f\"This is {difference_percentage*100}% higher than when Handle still competed.\")"
   ]
  },
  {
   "cell_type": "markdown",
   "id": "7495a2a4-eb4d-4d32-94f9-9023625e5c00",
   "metadata": {},
   "source": [
    "<p style=\"font-size: 15px;\"><b>Explanation:</b> The expected auction price is now €29.49 higher compared to when Handle was still qualified. This is partly due to the fact that Handle sometimes won the auction. However, the main reason is that since we ran a second price auction, the auction price- before excluding Handle- was mainly determined by Handle's cost distribution, as they came second in most auctions. Now Ulme's costs determine the auction price, and as their distribution mean is €30 higher, the expected auction price also increases by roughly €30.</p>"
   ]
  },
  {
   "cell_type": "markdown",
   "id": "a673c666-8a0e-4eef-a543-223500fae4c1",
   "metadata": {},
   "source": [
    "<div style=\"margin-top: 30px; margin-bottom: 10px;\">   \n",
    "    <span style =\"font-size: 40px; font-weight: bold; color: #8EB944; align: center\">\n",
    "        Day 3\n",
    "    </span>\n",
    "    <hr style=\"color: #8EB944; height: 3px;background-color: #8EB944;border: none\"> \n",
    "    </div>"
   ]
  },
  {
   "cell_type": "markdown",
   "id": "ddda8d68-cd98-4741-9e02-eaf173728498",
   "metadata": {},
   "source": [
    "<span style =\"font-size: 22px; font-weight: bold;color: #507F7F;\">\n",
    "         1. Use yesterday’s results to determine the probability of winning for each supplier.\n",
    "\n",
    "\n",
    "</span>\n",
    "<hr style=\"color: #8EB944; height: 1px;background-color: #507F7F;border: none\">\n",
    "\n",
    "<p style=\"font-size: 15px;\"><b>Assumption:</b> As before, we assume the winning probability to be the empirical probability rather than the theoretical one.\n",
    "    \n",
    "<p style=\"font-size: 15px;\">To get the probability of winning for each supplier, we first use python's included 'count' function to count the number of occurances of each supplier in the 'winner_names' list. We then divide this number by the total number of simulations to get the empirical probability for each supplier.</p>"
   ]
  },
  {
   "cell_type": "code",
   "execution_count": 16,
   "id": "fa2e2db0-8078-4e14-a968-7b4217d9ac55",
   "metadata": {
    "tags": []
   },
   "outputs": [
    {
     "name": "stdout",
     "output_type": "stream",
     "text": [
      "The probability to win the auction for each supplier looks as follows: \n",
      "Ulme: 0.0%, \n",
      "Handle: 9.87% \n",
      "ChemCo: 90.13%\n"
     ]
    }
   ],
   "source": [
    "# Count the number of times Handle and ChemCo won the initial auctions\n",
    "num_handle = winner_names.count(\"Handle\")\n",
    "num_chemco = winner_names.count(\"ChemCo\")\n",
    "\n",
    "# Determine the probability of winning for Handle and ChemCo\n",
    "percentage_handle = (num_handle/10000)\n",
    "percentage_chemco = (num_chemco/10000)\n",
    "\n",
    "# Print the final probabilities\n",
    "print(f\"The probability to win the auction for each supplier looks as follows: \\nUlme: {round(percentage_ulme*100,2)}%, \\nHandle: {round(percentage_handle*100,2)}% \\nChemCo: {round(percentage_chemco*100,2)}%\")"
   ]
  },
  {
   "cell_type": "markdown",
   "id": "56ae8bc8-b041-4c67-8e6f-f70c21322050",
   "metadata": {},
   "source": [
    "<p style=\"font-size: 15px;\"><b>Observation:</b> We can observe that ChemCo dominated the second price auction, winning more than 90%. Ulme, on the other hand, did not win any auction. This is expected in a price only auction, as the cost distributions are asymmetric and do just slightly overlap. "
   ]
  },
  {
   "cell_type": "markdown",
   "id": "30329a61-bbd0-4950-b7c3-0e2c76efc616",
   "metadata": {},
   "source": [
    "<span style =\"font-size: 22px; font-weight: bold;color: #507F7F;\">\n",
    "         2. Compute the expected total cost to Beier of buying 100,000 tonnes of Vitronium.\n",
    "\n",
    "\n",
    "</span>\n",
    "<hr style=\"color: #8EB944; height: 1px;background-color: #507F7F;border: none\">\n",
    "\n",
    "<p style =\"font-size: 15px;\"><b>Explanation:</b> To calculate the total cost of ownership, we first need to multiply the average auction price by 100,000 to get the total ex-factory price. Then we add the transport and adjustment costs for each of the suppliers, multiplied by the winning probability for each. This results in the following formula:\n",
    "$$ \\mu * 100,000 + \\sum_{i \\in I} p_i * (ac_i + 100,000 * tc_i) $$\n",
    "Where $\\mu$ is the average price from the 10,000 auctions. $I$ denotes the set of all three suppliers, $ac_i$ is the adjustment cost for supplier $i$ and $tc_i$ is the transport cost for supplier $i$. $p_i$ is the probability with which each supplier is expected to win the auction.\n",
    "\n",
    "</p>"
   ]
  },
  {
   "cell_type": "code",
   "execution_count": 17,
   "id": "bee36744-f8ba-40b6-9b17-071c4db7e7a2",
   "metadata": {
    "tags": []
   },
   "outputs": [
    {
     "name": "stdout",
     "output_type": "stream",
     "text": [
      "The total cost of ownership amount to 8,397,950.0€.\n"
     ]
    }
   ],
   "source": [
    "total_cost_ownership = mu * 100000 + percentage_handle * (1500000 + 100000 * 20) + percentage_chemco * (3500000 + 100000 * 15) + percentage_ulme * (100000 * 5)\n",
    "\n",
    "print(f\"The total cost of ownership amount to {round(total_cost_ownership,2):,}€.\")"
   ]
  },
  {
   "cell_type": "markdown",
   "id": "b998f28d-9797-4ba3-b4a1-5b756bec5987",
   "metadata": {},
   "source": [
    "<span style =\"font-size: 22px; font-weight: bold;color: #507F7F;\">\n",
    "        3. What is the expected total cost to Beier if we run a na ̈ıve scoring auction instead?\n",
    "\n",
    "\n",
    "</span>\n",
    "<hr style=\"color: #8EB944; height: 1px;background-color: #507F7F;border: none\">\n",
    "<p style =\"font-size: 15px;\"><b>Explanation:</b> We now need to adapt our code to run the naive scoring auction. First, we need to generate the bid price for each supplier by drawing from their cost distribution. However, we must also  add the additional cost per tonne as calculated on Day 1. This yields the final score, which is used to determine the winner of the auction. \n",
    "    \n",
    "<p style =\"font-size: 15px;\"><b>Assumption:</b> To make it a fair comparison to the previous tasks, we also need to run a second price auction. However, this causes some problems: <br>\n",
    "Imagine a situation with the following costs by the suppliers:</p>\n",
    "    <table style=\"text-align: center; font-size: 15px;\">\n",
    "        <tr>\n",
    "            <th>Supplier</th>\n",
    "            <th>Bid</th>\n",
    "            <th>Add. Cost</th>\n",
    "            <th>Score</th>\n",
    "        </tr>\n",
    "        <tr>\n",
    "            <td>Ulme</td>\n",
    "            <td>40</td>\n",
    "            <td>5</td>\n",
    "            <td>45</td>\n",
    "        </tr>\n",
    "        <tr>\n",
    "            <td>Handle</td>\n",
    "            <td>30</td>\n",
    "            <td>35</td>\n",
    "            <td>65</td>\n",
    "        </tr>\n",
    "        <tr>\n",
    "            <td>Chemco</td>\n",
    "            <td>40</td>\n",
    "            <td>50</td>\n",
    "            <td>90</td>\n",
    "        </tr>\n",
    "    </table>\n",
    "    \n",
    "<p style =\"font-size: 15px; text-align: justify;\">In this situation Ulme wins the auction due to them having the lowest score. In a second price auction, they would get the bid of Handle who had the second lowest cost. However, their price is actually lower than Ulme's which is obviously unfair. If we decided to run a first price naive scoring auction, Ulme would win and just get their cost covered, making them indifferent about winning the auction. <br> \n",
    "    \n",
    "<p style =\"font-size: 15px;\"><b>Assumption:</b> To counteract these effects, we decided to set the second highest score as the winning price, as this method is the only one which leaves a possibility for the supplier to make a profit. Without this possibility, it would not be a weakly dominant strategy for the suppliers to bid their cost. This method results in a significantly higher average auction price, but lower expected adjustment and transportation cost for Beier.</p>"
   ]
  },
  {
   "cell_type": "code",
   "execution_count": 18,
   "id": "902bbf7d-1bef-4966-87dc-1b840993d476",
   "metadata": {
    "tags": []
   },
   "outputs": [],
   "source": [
    "# Define the additional cost from the first task\n",
    "ulme_ac = 5\n",
    "handle_ac = 35\n",
    "chemco_ac = 50\n",
    "\n",
    "# define a function to simulate the auctions\n",
    "def simulate_naive_auction(num_times:int):\n",
    "    # Create one dict for the results and one dict for the winners\n",
    "    results = {}\n",
    "    winners = {}\n",
    "    \n",
    "    # Use a for loop to simulate each auction\n",
    "    for n in range(num_times):\n",
    "        \n",
    "        # Generate the bid price for each supplier and round to two digits to get the price in euros\n",
    "        chemco = round(np.random.uniform(10,30),2)\n",
    "        handle = round(np.max([0,np.random.normal(35,10)]),2) \n",
    "        ulme = round(np.max([0,np.random.normal(65,10)]),2) \n",
    "        results[n] = [[np.round(chemco_ac + chemco,2), chemco, \"ChemCo\"], \n",
    "                      [np.round(handle + handle_ac,2),handle, \"Handle\"], \n",
    "                      [np.round(ulme + ulme_ac,2), ulme, \"Ulme\"]]    \n",
    "        \n",
    "    # Populate the winners dict with the lists that contain the highest price in each auction\n",
    "    for key, arrays in results.items():\n",
    "        # Find the array with the lowest value and second lowest value\n",
    "        sorted_arrays = sorted(arrays, key=lambda x: x[0])\n",
    "        lowest = sorted_arrays[0]\n",
    "        second_lowest = sorted_arrays[1]\n",
    "    \n",
    "        # Store the result in the new dictionary\n",
    "        winners[key] = [second_lowest[0], lowest[2]]\n",
    "        \n",
    "    return results, winners"
   ]
  },
  {
   "cell_type": "code",
   "execution_count": 19,
   "id": "c5290a8b-973e-4b56-bf21-32b722910aa2",
   "metadata": {
    "tags": []
   },
   "outputs": [],
   "source": [
    "# Simulate the naive scoring auction\n",
    "np.random.seed(42)\n",
    "results_naive, winners_naive = simulate_naive_auction(10000)"
   ]
  },
  {
   "cell_type": "code",
   "execution_count": 20,
   "id": "97b443e0-baaa-44e0-8174-da4ebcbf1b42",
   "metadata": {
    "tags": []
   },
   "outputs": [
    {
     "name": "stdout",
     "output_type": "stream",
     "text": [
      "New average auction price with the naive scoring system: €70.01\n"
     ]
    }
   ],
   "source": [
    "# Create an array with the winning price of each auction\n",
    "winning_prices_naive = [winners_naive[i][0] for i in range(len(winners_naive))]\n",
    "\n",
    "# Calculate and print the mean and the difference to the old auction price\n",
    "mean_naive = np.mean(winning_prices_naive)\n",
    "\n",
    "# Print the new mean bid price\n",
    "print(f\"New average auction price with the naive scoring system: €{mean_naive:.2f}\")"
   ]
  },
  {
   "cell_type": "code",
   "execution_count": 21,
   "id": "41c4281f-0703-4a59-88a5-3ab4ef39c15e",
   "metadata": {
    "tags": []
   },
   "outputs": [
    {
     "name": "stdout",
     "output_type": "stream",
     "text": [
      "The probability to win the auction for each supplier looks as follows: \n",
      "Ulme: 35.41%, \n",
      "Handle: 35.13% \n",
      "ChemCo: 29.46%\n"
     ]
    }
   ],
   "source": [
    "# Create a list that contains the winners name of each auction\n",
    "winner_names_naive = [winners_naive[i][1] for i in range(len(winners_naive))]\n",
    "\n",
    "# Count the number of times Handle and ChemCo won the initial auctions\n",
    "num_handle_naive = winner_names_naive.count(\"Handle\")\n",
    "num_chemco_naive = winner_names_naive.count(\"ChemCo\")\n",
    "num_ulme_naive = winner_names_naive.count(\"Ulme\")\n",
    "\n",
    "# Determine the probability of winning for Handle and ChemCo\n",
    "percentage_handle_naive = (num_handle_naive/10000)\n",
    "percentage_chemco_naive = (num_chemco_naive/10000)\n",
    "percentage_ulme_naive = (num_ulme_naive/10000)\n",
    "\n",
    "# Print the final probabilities\n",
    "print(f\"The probability to win the auction for each supplier looks as follows: \\nUlme: {round(percentage_ulme_naive*100,4)}%, \\nHandle: {round(percentage_handle_naive*100,4)}% \\nChemCo: {round(percentage_chemco_naive*100,4)}%\")"
   ]
  },
  {
   "cell_type": "code",
   "execution_count": 22,
   "id": "f4e37f79-4162-4719-9a16-8d6f6d2ce5da",
   "metadata": {
    "tags": []
   },
   "outputs": [
    {
     "name": "stdout",
     "output_type": "stream",
     "text": [
      "Answer: The total costs of ownership amount to 9,880,740.4€.\n"
     ]
    }
   ],
   "source": [
    "# Calculate the Total Cost of Ownership as before\n",
    "total_cost_ownership_naive = mean_naive * 100000 + percentage_handle_naive * (1500000 + 100000 * 20) + percentage_chemco_naive * (3500000 + 100000 * 15) + percentage_ulme_naive * (100000 * 5)\n",
    "\n",
    "print(f\"Answer: The total costs of ownership amount to {round(total_cost_ownership_naive,2):,}€.\")"
   ]
  },
  {
   "cell_type": "markdown",
   "id": "fb276f97-3404-4876-a724-8b2b33e6218f",
   "metadata": {},
   "source": [
    "<span style =\"font-size: 22px; font-weight: bold;color: #507F7F;\">\n",
    "        4. Is running a na ̈ıve scoring auction better in terms of the total cost of ownership?\n"
   ]
  },
  {
   "cell_type": "markdown",
   "id": "45692256-ba0a-4969-8b5c-3e03d0bb8835",
   "metadata": {},
   "source": [
    "<hr style=\"color: #8EB944; height: 1px;background-color: #507F7F;border: none\">\n",
    "<p style =\"font-size: 15px;\"><b>Analysis:</b> Let us first visualize and analyze the expected prices and the winning percentages of the two different types of auctions. <br>"
   ]
  },
  {
   "cell_type": "code",
   "execution_count": 23,
   "id": "b8511b49-c7b3-46ce-9b44-dc160b24c4de",
   "metadata": {
    "tags": []
   },
   "outputs": [
    {
     "data": {
      "image/png": "[encoded data removed]",
      "text/plain": [
       "<Figure size 1000x600 with 1 Axes>"
      ]
     },
     "metadata": {},
     "output_type": "display_data"
    }
   ],
   "source": [
    "# Get the data from the simulations\n",
    "data = winning_prices_naive\n",
    "data2 = auction_prices_num[10000]\n",
    "\n",
    "# Create the density plot\n",
    "plt.figure(figsize=(10, 6))\n",
    "sns.kdeplot(data=data, fill=True, color=\"lightblue\", alpha=0.5,label=\"Naive-Scoring-Auction\")\n",
    "sns.kdeplot(data=data2, fill=True, color=\"lightgreen\", alpha=0.5,label=\"Second-Price-Auction\")\n",
    "\n",
    "# Customize the plot\n",
    "plt.title(\"Density Plot of Auction Prices \")\n",
    "plt.legend()\n",
    "plt.xlabel(\"Auction Price\")\n",
    "plt.ylabel(\"Density\")\n",
    "plt.grid(True)\n",
    "plt.show()"
   ]
  },
  {
   "cell_type": "markdown",
   "id": "3dd4f3d8-a1ef-4c48-8275-e0a9a30b16d2",
   "metadata": {},
   "source": [
    "<p style=\"text-align: justify; font-size: 15px\"><b>Interpretation:</b> As expected, the average auction price is now much higher than before. This is due to the fact that the price is now the sum of the second highest bid and the additional cost. Furthermore, the narrower shape of the distribution indicates a lower variance. To understand this, we need to look at the new distribution means: </p>\n",
    "\n",
    "<table style=\"text-align: center; font-size: 15px;\">\n",
    "        <tr>\n",
    "            <th>Supplier</th>\n",
    "            <th>Old Mean</th>\n",
    "            <th>Penalty</th>\n",
    "            <th>New Mean</th>\n",
    "        </tr>\n",
    "        <tr>\n",
    "            <td>Ulme</td>\n",
    "            <td>65</td>\n",
    "            <td>5</td>\n",
    "            <td>70</td>\n",
    "        </tr>\n",
    "        <tr>\n",
    "            <td>Handle</td>\n",
    "            <td>35</td>\n",
    "            <td>35</td>\n",
    "            <td>70</td>\n",
    "        </tr>\n",
    "        <tr>\n",
    "            <td>Chemco</td>\n",
    "            <td>20</td>\n",
    "            <td>50</td>\n",
    "            <td>70</td>\n",
    "        </tr>\n",
    "</table>\n",
    "\n",
    "<p style=\"text-align: justify; font-size: 15px\">While the cost distribution functions are significantly different for the three suppliers, the score-adjusted distributions all have the same mean of 70. This leads to the shape of the density plot shown above because the price is drawn from a distribution with a mean of 70, regardless of who wins.</p>"
   ]
  },
  {
   "cell_type": "code",
   "execution_count": 24,
   "id": "3112d36e-d0e2-403c-b20c-a3c5fda6ddb7",
   "metadata": {
    "tags": []
   },
   "outputs": [
    {
     "data": {
      "image/png": "[encoded data removed]",
      "text/plain": [
       "<Figure size 1000x600 with 1 Axes>"
      ]
     },
     "metadata": {},
     "output_type": "display_data"
    }
   ],
   "source": [
    "# Collect the data from both the naive auction and the second-price auction from Day 2\n",
    "data_auctions = {\n",
    "    \"values\": [percentage_ulme,percentage_ulme_naive, percentage_handle,percentage_handle_naive, percentage_chemco,percentage_chemco_naive],\n",
    "    \"auction\": ['second','naive','second','naive','second','naive'],\n",
    "    \"prices\": ['5: Ulme', '5: Ulme', '35: Handle','35: Handle', '50: ChemCo', '50: ChemCo']\n",
    "}\n",
    "\n",
    "# Create the bar plot\n",
    "plt.figure(figsize=(10, 6))\n",
    "sns.barplot(data=data_auctions,x='prices', y='values', hue='auction',palette='viridis')\n",
    "\n",
    "# Customize the plot\n",
    "plt.title('Winning Percentage by Supplier and Auction Method')\n",
    "plt.xlabel('Cost: Supplier')\n",
    "plt.ylabel('Winning Percentage')\n",
    "\n",
    "# Show plot\n",
    "plt.show()"
   ]
  },
  {
   "cell_type": "markdown",
   "id": "adb42414-79dd-43a8-aad2-2cd20fb28e60",
   "metadata": {},
   "source": [
    "<p style=\"text-align: justify; font-size: 15px\"><b>Answer:</b> This plot shows each supplier's empirical probability of winning the auction depending on whether we run a second-price auction or a naive-scoring auction. While Chemco wins most auctions when we run a second-price auction, they are significantly penalized in a scoring auction. They would incur additional costs of 5 Million for a volume of 100,000 tonnes for Beier in case of winning the auction. The distribution of wins is much more even due to this penalty. This significantly reduces the expected additional cost, mitigating the higher average auction price in a naive scoring auction. \n",
    "    \n",
    "<p style=\"text-align: justify; font-size: 15px\">However, the higher avereage auction price (70 compared to 35 before) outweighs the reduced additional cost, so we should choose a standard second-price procurement auction. The Total cost of ownership of the naive scoring auction is 9,880,740.4 €, whereas the total cost of ownership for the second-price procurement auction is 8,397,950.0€. This is an increase of almost 1.5 Million €. Thus, this version of naive scoring selects the efficient supplier, but dampens competition and thus is overall less optimal for Beier.  </p>"
   ]
  },
  {
   "cell_type": "code",
   "execution_count": null,
   "id": "516cc442-7d61-43a1-b07f-45fa32c234af",
   "metadata": {},
   "outputs": [],
   "source": []
  }
 ],
 "metadata": {
  "kernelspec": {
   "display_name": "fullstack",
   "language": "python",
   "name": "fullstack"
  },
  "language_info": {
   "codemirror_mode": {
    "name": "ipython",
    "version": 3
   },
   "file_extension": ".py",
   "mimetype": "text/x-python",
   "name": "python",
   "nbconvert_exporter": "python",
   "pygments_lexer": "ipython3",
   "version": "3.9.13"
  }
 },
 "nbformat": 4,
 "nbformat_minor": 5
}
